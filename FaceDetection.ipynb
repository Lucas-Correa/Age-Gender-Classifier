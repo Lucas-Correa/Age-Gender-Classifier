{
 "cells": [
  {
   "cell_type": "code",
   "execution_count": 1,
   "id": "d726754a-9cb6-44d2-b37d-8824a0b53dfa",
   "metadata": {},
   "outputs": [],
   "source": [
    "import pandas as pd\n",
    "import numpy as np\n",
    "import datetime\n",
    "import requests\n",
    "from requests.auth import HTTPBasicAuth\n",
    "import tarfile\n",
    "import os\n",
    "import shutil\n",
    "import warnings\n",
    "from sklearn.metrics import classification_report, confusion_matrix\n",
    "import matplotlib.pyplot as plt\n",
    "\n",
    "#keras\n",
    "import tensorflow as tf\n",
    "from tensorflow import keras\n",
    "from tensorflow.keras.layers import Dense,Dropout,Conv2D, Flatten, MaxPooling2D\n",
    "from tensorflow.keras.models import Model,Sequential \n",
    "from tensorflow.keras import optimizers\n",
    "from tensorflow.keras.preprocessing.image import ImageDataGenerator"
   ]
  },
  {
   "cell_type": "code",
   "execution_count": 2,
   "id": "ed43f813-eec8-4ea4-84fd-773f2bb3c7f6",
   "metadata": {},
   "outputs": [],
   "source": [
    "def get_organize_files(): \n",
    "    #download files with images\n",
    "    #https://talhassner.github.io/home/projects/Adience/Adience-data.html\n",
    "    print('starting download')\n",
    "    BASE_URL = \"http://www.cslab.openu.ac.il/download/adiencedb/AdienceBenchmarkOfUnfilteredFacesForGenderAndAgeClassification\"\n",
    "    DOWNLOAD_FILES = {\n",
    "              \"http://www.cslab.openu.ac.il/download/adiencedb/AdienceBenchmarkOfUnfilteredFacesForGenderAndAgeClassification/aligned.tar.gz\": \"aligned.tar.gz\",\n",
    "              \"http://www.cslab.openu.ac.il/download/adiencedb/AdienceBenchmarkOfUnfilteredFacesForGenderAndAgeClassification/fold_0_data.txt\": \"fold_0_data.txt\",\n",
    "              \"http://www.cslab.openu.ac.il/download/adiencedb/AdienceBenchmarkOfUnfilteredFacesForGenderAndAgeClassification/fold_1_data.txt\": \"fold_1_data.txt\",\n",
    "              \"http://www.cslab.openu.ac.il/download/adiencedb/AdienceBenchmarkOfUnfilteredFacesForGenderAndAgeClassification/fold_2_data.txt\": \"fold_2_data.txt\",\n",
    "              \"http://www.cslab.openu.ac.il/download/adiencedb/AdienceBenchmarkOfUnfilteredFacesForGenderAndAgeClassification/fold_3_data.txt\": \"fold_3_data.txt\",\n",
    "              \"http://www.cslab.openu.ac.il/download/adiencedb/AdienceBenchmarkOfUnfilteredFacesForGenderAndAgeClassification/fold_4_data.txt\": \"fold_4_data.txt\"\n",
    "                    }\n",
    "\n",
    "    for DOWNLOAD_FILE, FILE_NAME in DOWNLOAD_FILES.items():\n",
    "        if not os.path.exists(FILE_NAME):\n",
    "            with open(FILE_NAME, 'wb') as file:\n",
    "                r = requests.get(DOWNLOAD_FILE, auth = HTTPBasicAuth('adiencedb', 'adience'))\n",
    "                file.write(r.content)\n",
    "                print('downloaded {}'.format(FILE_NAME))\n",
    "    \n",
    "    print('unziping images...')\n",
    "    \n",
    "    if not os.path.exists('aligned'):\n",
    "        with tarfile.open('aligned.tar.gz') as file:\n",
    "            file.extractall()\n",
    "        \n",
    "    print('images unziped')\n",
    "    \n",
    "    #compile all files catalog\n",
    "    fold = pd.read_csv('fold_0_data.txt',sep='\\t')\n",
    "    fold.rename(columns={' user_id':'user_id'},inplace=True)\n",
    "    fold['fold'] = 0\n",
    "    for i in range(1,5):\n",
    "        temp = pd.read_csv('fold_'+str(i)+'_data.txt',sep='\\t')\n",
    "        temp['fold'] = i\n",
    "        fold = fold.append(temp,ignore_index=True)\n",
    "\n",
    "    fold.dropna(subset=['gender'],inplace=True)\n",
    "    fold = fold[['user_id','original_image','face_id','age','gender','fold']]\n",
    "     \n",
    "    train = fold.groupby('gender',as_index=False,group_keys=False).apply(lambda x: x.sample(frac=.5))\n",
    "    test = fold.drop(train.index.values)\n",
    "    \n",
    "    print('Train and test split done')\n",
    "    \n",
    "    #creates directories for training, test and validation files\n",
    "    cwd = os.getcwd()\n",
    "    \n",
    "    train_faces = os.path.join(cwd,'train')\n",
    "    if not os.path.exists(train_faces):\n",
    "        os.mkdir(train_faces)\n",
    "\n",
    "    test_faces = os.path.join(cwd,'test')\n",
    "    if not os.path.exists(test_faces):\n",
    "        os.mkdir(test_faces)\n",
    "\n",
    "    #copy images to each directory\n",
    "    for index, row in train.iterrows():\n",
    "        src = os.path.join(cwd,'aligned',row['user_id'],'landmark_aligned_face.'+str(row['face_id'])+'.'+row['original_image'])\n",
    "        dst = os.path.join(train_faces,row['original_image'])\n",
    "        shutil.copyfile(src,dst)\n",
    "\n",
    "    print('train images copied')\n",
    "\n",
    "    for index, row in test.iterrows():\n",
    "        src = os.path.join(cwd,'aligned',row['user_id'],'landmark_aligned_face.'+str(row['face_id'])+'.'+row['original_image'])\n",
    "        dst = os.path.join(test_faces,row['original_image'])\n",
    "        shutil.copyfile(src,dst)\n",
    "\n",
    "    print('test images copied')\n",
    "    \n",
    "    return cwd,train_faces,test_faces,train,test\n"
   ]
  },
  {
   "cell_type": "code",
   "execution_count": 30,
   "id": "f483a38a-b71d-4c8c-b315-8aaa6a06b40d",
   "metadata": {},
   "outputs": [
    {
     "name": "stdout",
     "output_type": "stream",
     "text": [
      "starting download\n",
      "unziping images...\n",
      "images unziped\n",
      "Train and test split done\n",
      "train images copied\n",
      "test images copied\n"
     ]
    }
   ],
   "source": [
    "cwd,train_faces,test_faces,train_images_ids, test_images_ids = get_organize_files()"
   ]
  },
  {
   "cell_type": "code",
   "execution_count": 4,
   "id": "fc9e2901-ffbd-4511-8536-02044e1230c0",
   "metadata": {},
   "outputs": [],
   "source": [
    "def Model():\n",
    "    model = Sequential()\n",
    "    model.add(Conv2D(64, (3, 3), input_shape = (150, 150, 3), activation = 'relu'))\n",
    "    model.add(MaxPooling2D(pool_size = (2, 2)))\n",
    "    model.add(Conv2D(64, (3, 3), activation = 'relu'))\n",
    "    model.add(MaxPooling2D(pool_size = (2, 2)))\n",
    "    model.add(Conv2D(32, (1, 1), activation = 'relu'))\n",
    "    model.add(MaxPooling2D(pool_size = (2, 2)))\n",
    "    model.add(Flatten())\n",
    "    model.add(Dense(units = 192, activation = 'relu'))\n",
    "    model.add(Dropout(0.5))\n",
    "    model.add(Dense(units = 128, activation = 'relu'))\n",
    "    model.add(Dropout(0.5))\n",
    "    model.add(Dense(units = 32, activation = 'relu'))\n",
    "    model.add(Dense(units = 3, activation = 'softmax'))\n",
    "    model.compile(loss='categorical_crossentropy', optimizer = optimizers.RMSprop(lr=1e-4), metrics=['acc'])\n",
    "    \n",
    "    return model"
   ]
  },
  {
   "cell_type": "code",
   "execution_count": 5,
   "id": "c0d4a7b2-ac6e-41f6-8915-e35481b5066c",
   "metadata": {},
   "outputs": [
    {
     "name": "stdout",
     "output_type": "stream",
     "text": [
      "Found 9296 validated image filenames belonging to 3 classes.\n",
      "Found 9295 validated image filenames belonging to 3 classes.\n"
     ]
    }
   ],
   "source": [
    "#vectorizing images \n",
    "train_datagen = ImageDataGenerator(rescale=1./255)\n",
    "train_generator = train_datagen.flow_from_dataframe(\n",
    "                    train_images_ids,\n",
    "                    x_col='original_image',\n",
    "                    y_col='gender',\n",
    "                    directory=train_faces,\n",
    "                    target_size=(150,150),\n",
    "                    batch_size=20,\n",
    "                    class_mode='categorical'\n",
    "                )\n",
    "\n",
    "test_datagen = ImageDataGenerator(rescale=1./255)\n",
    "test_generator = test_datagen.flow_from_dataframe(\n",
    "                    test_images_ids,\n",
    "                    x_col='original_image',\n",
    "                    y_col='gender',\n",
    "                    directory=test_faces,\n",
    "                    target_size=(150,150),\n",
    "                    batch_size=20,\n",
    "                    class_mode='categorical'\n",
    "                )"
   ]
  },
  {
   "cell_type": "code",
   "execution_count": 6,
   "id": "22da8a6d-bd01-43de-9c6f-6b1bd62676f5",
   "metadata": {},
   "outputs": [
    {
     "name": "stdout",
     "output_type": "stream",
     "text": [
      "WARNING:tensorflow:From <ipython-input-6-33b89f25a0f5>:3: Model.fit_generator (from tensorflow.python.keras.engine.training) is deprecated and will be removed in a future version.\n",
      "Instructions for updating:\n",
      "Please use Model.fit, which supports generators.\n",
      "Epoch 1/15\n",
      "100/100 [==============================] - 49s 494ms/step - loss: 0.9707 - acc: 0.4480 - val_loss: 0.9102 - val_acc: 0.4833\n",
      "Epoch 2/15\n",
      "100/100 [==============================] - 49s 489ms/step - loss: 0.9137 - acc: 0.4715 - val_loss: 0.8727 - val_acc: 0.5233\n",
      "Epoch 3/15\n",
      "100/100 [==============================] - 53s 530ms/step - loss: 0.9031 - acc: 0.5015 - val_loss: 0.8863 - val_acc: 0.5117\n",
      "Epoch 4/15\n",
      "100/100 [==============================] - 54s 536ms/step - loss: 0.8939 - acc: 0.5035 - val_loss: 0.8788 - val_acc: 0.4883\n",
      "Epoch 5/15\n",
      "100/100 [==============================] - 53s 535ms/step - loss: 0.8871 - acc: 0.4960 - val_loss: 0.8746 - val_acc: 0.4967\n",
      "Epoch 6/15\n",
      "100/100 [==============================] - 50s 504ms/step - loss: 0.8851 - acc: 0.4860 - val_loss: 0.8216 - val_acc: 0.5383\n",
      "Epoch 7/15\n",
      "100/100 [==============================] - 50s 504ms/step - loss: 0.8704 - acc: 0.4965 - val_loss: 0.8064 - val_acc: 0.5167\n",
      "Epoch 8/15\n",
      "100/100 [==============================] - 50s 502ms/step - loss: 0.8572 - acc: 0.5035 - val_loss: 0.8326 - val_acc: 0.4950\n",
      "Epoch 9/15\n",
      "100/100 [==============================] - 51s 506ms/step - loss: 0.8472 - acc: 0.5245 - val_loss: 0.8340 - val_acc: 0.5617\n",
      "Epoch 10/15\n",
      "100/100 [==============================] - 51s 508ms/step - loss: 0.8228 - acc: 0.5400 - val_loss: 0.8099 - val_acc: 0.5450\n",
      "Epoch 11/15\n",
      "100/100 [==============================] - 51s 506ms/step - loss: 0.8147 - acc: 0.5531 - val_loss: 0.7905 - val_acc: 0.5633\n",
      "Epoch 12/15\n",
      "100/100 [==============================] - 51s 515ms/step - loss: 0.8108 - acc: 0.5585 - val_loss: 0.8004 - val_acc: 0.5650\n",
      "Epoch 13/15\n",
      "100/100 [==============================] - 51s 513ms/step - loss: 0.7791 - acc: 0.5720 - val_loss: 0.8082 - val_acc: 0.5617\n",
      "Epoch 14/15\n",
      "100/100 [==============================] - 53s 529ms/step - loss: 0.7640 - acc: 0.5820 - val_loss: 0.7877 - val_acc: 0.5883\n",
      "Epoch 15/15\n",
      "100/100 [==============================] - 51s 511ms/step - loss: 0.7850 - acc: 0.5755 - val_loss: 0.7477 - val_acc: 0.6133\n"
     ]
    }
   ],
   "source": [
    "#training model\n",
    "model = Model()\n",
    "history = model.fit_generator(train_generator,\n",
    "                              steps_per_epoch=100,\n",
    "                              epochs=15,\n",
    "                              validation_data = test_generator,\n",
    "                              validation_steps=30)\n",
    "model.save('face_gender_detection.h5')"
   ]
  },
  {
   "cell_type": "code",
   "execution_count": 7,
   "id": "c93543f3-b265-4996-9dd1-9bb992a65077",
   "metadata": {},
   "outputs": [
    {
     "name": "stdout",
     "output_type": "stream",
     "text": [
      "WARNING:tensorflow:From <ipython-input-7-d3e23aabcbe1>:1: Model.predict_generator (from tensorflow.python.keras.engine.training) is deprecated and will be removed in a future version.\n",
      "Instructions for updating:\n",
      "Please use Model.predict, which supports generators.\n"
     ]
    },
    {
     "name": "stderr",
     "output_type": "stream",
     "text": [
      "C:\\Users\\Utilizador\\anaconda3\\envs\\deepl\\lib\\site-packages\\sklearn\\metrics\\_classification.py:1245: UndefinedMetricWarning: Precision and F-score are ill-defined and being set to 0.0 in labels with no predicted samples. Use `zero_division` parameter to control this behavior.\n",
      "  _warn_prf(average, modifier, msg_start, len(result))\n",
      "C:\\Users\\Utilizador\\anaconda3\\envs\\deepl\\lib\\site-packages\\sklearn\\metrics\\_classification.py:1245: UndefinedMetricWarning: Precision and F-score are ill-defined and being set to 0.0 in labels with no predicted samples. Use `zero_division` parameter to control this behavior.\n",
      "  _warn_prf(average, modifier, msg_start, len(result))\n",
      "C:\\Users\\Utilizador\\anaconda3\\envs\\deepl\\lib\\site-packages\\sklearn\\metrics\\_classification.py:1245: UndefinedMetricWarning: Precision and F-score are ill-defined and being set to 0.0 in labels with no predicted samples. Use `zero_division` parameter to control this behavior.\n",
      "  _warn_prf(average, modifier, msg_start, len(result))\n"
     ]
    },
    {
     "name": "stdout",
     "output_type": "stream",
     "text": [
      "              precision    recall  f1-score   support\n",
      "\n",
      "         Men       0.51      0.81      0.62      4686\n",
      "       Woman       0.44      0.19      0.27      4060\n",
      "        Baby       0.00      0.00      0.00       549\n",
      "\n",
      "    accuracy                           0.49      9295\n",
      "   macro avg       0.31      0.33      0.30      9295\n",
      "weighted avg       0.45      0.49      0.43      9295\n",
      "\n"
     ]
    },
    {
     "data": {
      "image/png": "[encoded data removed]",
      "text/plain": [
       "<Figure size 432x288 with 1 Axes>"
      ]
     },
     "metadata": {
      "needs_background": "light"
     },
     "output_type": "display_data"
    },
    {
     "data": {
      "image/png": "[encoded data removed]",
      "text/plain": [
       "<Figure size 432x288 with 1 Axes>"
      ]
     },
     "metadata": {
      "needs_background": "light"
     },
     "output_type": "display_data"
    }
   ],
   "source": [
    "Y_pred = model.predict_generator(test_generator, (9296 / 20)) # ceil(num_of_test_samples / batch_size)\n",
    "target_names = ['Men', 'Woman','Baby']\n",
    "print(classification_report(test_generator.classes[:Y_pred.shape[0]],\n",
    "                            list(np.argmax(Y_pred,axis=1)), \n",
    "                            target_names=target_names))\n",
    "\n",
    "\n",
    "acc_train = history.history['acc']\n",
    "acc_val = history.history['val_acc']\n",
    "epochs = range(1,16)\n",
    "plt.plot(epochs, acc_train, 'g', label='Training accuracy')\n",
    "plt.plot(epochs, acc_val, 'b', label='Validation accuracy')\n",
    "plt.title('Training and Validation accuracy')\n",
    "plt.xlabel('Epochs')\n",
    "plt.ylabel('Accuracy')\n",
    "plt.legend()\n",
    "plt.show()\n",
    "\n",
    "loss_train = history.history['loss']\n",
    "loss_val = history.history['val_loss']\n",
    "epochs = range(1,16)\n",
    "plt.plot(epochs, loss_train, 'g', label='Training loss')\n",
    "plt.plot(epochs, loss_val, 'b', label='Validation loss')\n",
    "plt.title('Training and Validation loss')\n",
    "plt.xlabel('Epochs')\n",
    "plt.ylabel('Loss')\n",
    "plt.legend()\n",
    "plt.show()"
   ]
  },
  {
   "cell_type": "markdown",
   "id": "de8110c2",
   "metadata": {},
   "source": [
    "# Age Prediction"
   ]
  },
  {
   "cell_type": "code",
   "execution_count": 3,
   "id": "31517168",
   "metadata": {},
   "outputs": [],
   "source": [
    "def Model_age():\n",
    "    model = Sequential()\n",
    "    model.add(Conv2D(32, (3, 3), input_shape = (150, 150, 3), activation = 'relu'))\n",
    "    model.add(MaxPooling2D(pool_size = (2, 2)))\n",
    "    model.add(Conv2D(64, (3, 3), activation = 'relu'))\n",
    "    model.add(MaxPooling2D(pool_size = (2, 2)))\n",
    "    model.add(Conv2D(128, (3, 3), activation = 'relu'))\n",
    "    model.add(MaxPooling2D(pool_size = (2, 2)))\n",
    "    model.add(Conv2D(256, (1, 1), activation = 'relu'))\n",
    "    model.add(MaxPooling2D(pool_size = (2, 2)))\n",
    "    model.add(Conv2D(512, (1, 1), activation = 'relu'))\n",
    "    model.add(MaxPooling2D(pool_size = (2, 2)))\n",
    "    model.add(Dense(units = 192, activation = 'relu'))\n",
    "    model.add(Dropout(0.5))\n",
    "    model.add(Dense(units = 128, activation = 'relu'))\n",
    "    model.add(Dropout(0.5))\n",
    "    model.add(Dense(units = 32, activation = 'relu'))\n",
    "    model.add(Dense(units = 12, activation = 'softmax'))\n",
    "    model.summary()\n",
    "    model.compile(loss='categorical_crossentropy', optimizer = optimizers.RMSprop(lr=1e-4), metrics=['acc'])\n",
    "    \n",
    "    return model"
   ]
  },
  {
   "cell_type": "code",
   "execution_count": 4,
   "id": "40be504f",
   "metadata": {},
   "outputs": [
    {
     "ename": "NameError",
     "evalue": "name 'train_images_ids' is not defined",
     "output_type": "error",
     "traceback": [
      "\u001b[1;31m---------------------------------------------------------------------------\u001b[0m",
      "\u001b[1;31mNameError\u001b[0m                                 Traceback (most recent call last)",
      "\u001b[1;32m<ipython-input-4-08158f36b395>\u001b[0m in \u001b[0;36m<module>\u001b[1;34m\u001b[0m\n\u001b[1;32m----> 1\u001b[1;33m train_images_ids.age.replace(['35','(8, 12)','13','22','34','45','(27, 32)','23','55','36','(38, 42)','57'],\n\u001b[0m\u001b[0;32m      2\u001b[0m                              ['(33,37)','(8,13)','(8,13)','(21,24)','(33,37)','(44,47)','(25, 32)','(21,24)','(54,59)',\n\u001b[0;32m      3\u001b[0m                              '(33,37)','(38, 43)','(54,59)'],\n\u001b[0;32m      4\u001b[0m                              inplace = True)\n",
      "\u001b[1;31mNameError\u001b[0m: name 'train_images_ids' is not defined"
     ]
    }
   ],
   "source": [
    "train_images_ids.age.replace(['35','(8, 12)','13','22','34','45','(27, 32)','23','55','36','(38, 42)','57'],\n",
    "                             ['(33,37)','(8,13)','(8,13)','(21,24)','(33,37)','(44,47)','(25, 32)','(21,24)','(54,59)',\n",
    "                             '(33,37)','(38, 43)','(54,59)'],\n",
    "                             inplace = True)\n"
   ]
  },
  {
   "cell_type": "code",
   "execution_count": 5,
   "id": "bc561720",
   "metadata": {},
   "outputs": [
    {
     "ename": "NameError",
     "evalue": "name 'train_images_ids' is not defined",
     "output_type": "error",
     "traceback": [
      "\u001b[1;31m---------------------------------------------------------------------------\u001b[0m",
      "\u001b[1;31mNameError\u001b[0m                                 Traceback (most recent call last)",
      "\u001b[1;32m<ipython-input-5-bae1acec0b6a>\u001b[0m in \u001b[0;36m<module>\u001b[1;34m\u001b[0m\n\u001b[1;32m----> 1\u001b[1;33m \u001b[0mtrain_images_ids\u001b[0m\u001b[1;33m.\u001b[0m\u001b[0mage\u001b[0m\u001b[1;33m.\u001b[0m\u001b[0mvalue_counts\u001b[0m\u001b[1;33m(\u001b[0m\u001b[1;33m)\u001b[0m\u001b[1;33m\u001b[0m\u001b[1;33m\u001b[0m\u001b[0m\n\u001b[0m",
      "\u001b[1;31mNameError\u001b[0m: name 'train_images_ids' is not defined"
     ]
    }
   ],
   "source": [
    "train_images_ids.age.value_counts()"
   ]
  },
  {
   "cell_type": "code",
   "execution_count": 6,
   "id": "a3c57b1a",
   "metadata": {},
   "outputs": [
    {
     "ename": "NameError",
     "evalue": "name 'train_images_ids' is not defined",
     "output_type": "error",
     "traceback": [
      "\u001b[1;31m---------------------------------------------------------------------------\u001b[0m",
      "\u001b[1;31mNameError\u001b[0m                                 Traceback (most recent call last)",
      "\u001b[1;32m<ipython-input-6-0de2af8b87d3>\u001b[0m in \u001b[0;36m<module>\u001b[1;34m\u001b[0m\n\u001b[1;32m----> 1\u001b[1;33m train_images_ids.drop(train_images_ids[train_images_ids.age.isin((train_images_ids.age.value_counts().loc[(train_images_ids.age.value_counts().values < 30)]).index)].index, \n\u001b[0m\u001b[0;32m      2\u001b[0m                       inplace = True)\n",
      "\u001b[1;31mNameError\u001b[0m: name 'train_images_ids' is not defined"
     ]
    }
   ],
   "source": [
    "train_images_ids.drop(train_images_ids[train_images_ids.age.isin((train_images_ids.age.value_counts().head(12)).index)].index, \n",
    "                      inplace = True)"
   ]
  },
  {
   "cell_type": "code",
   "execution_count": 7,
   "id": "6717f0a4",
   "metadata": {},
   "outputs": [
    {
     "ename": "NameError",
     "evalue": "name 'train_images_ids' is not defined",
     "output_type": "error",
     "traceback": [
      "\u001b[1;31m---------------------------------------------------------------------------\u001b[0m",
      "\u001b[1;31mNameError\u001b[0m                                 Traceback (most recent call last)",
      "\u001b[1;32m<ipython-input-7-bae1acec0b6a>\u001b[0m in \u001b[0;36m<module>\u001b[1;34m\u001b[0m\n\u001b[1;32m----> 1\u001b[1;33m \u001b[0mtrain_images_ids\u001b[0m\u001b[1;33m.\u001b[0m\u001b[0mage\u001b[0m\u001b[1;33m.\u001b[0m\u001b[0mvalue_counts\u001b[0m\u001b[1;33m(\u001b[0m\u001b[1;33m)\u001b[0m\u001b[1;33m\u001b[0m\u001b[1;33m\u001b[0m\u001b[0m\n\u001b[0m",
      "\u001b[1;31mNameError\u001b[0m: name 'train_images_ids' is not defined"
     ]
    }
   ],
   "source": [
    "train_images_ids.age.value_counts()"
   ]
  },
  {
   "cell_type": "code",
   "execution_count": 8,
   "id": "a0eabac9",
   "metadata": {},
   "outputs": [
    {
     "ename": "NameError",
     "evalue": "name 'test_images_ids' is not defined",
     "output_type": "error",
     "traceback": [
      "\u001b[1;31m---------------------------------------------------------------------------\u001b[0m",
      "\u001b[1;31mNameError\u001b[0m                                 Traceback (most recent call last)",
      "\u001b[1;32m<ipython-input-8-dce31d38c69a>\u001b[0m in \u001b[0;36m<module>\u001b[1;34m\u001b[0m\n\u001b[1;32m----> 1\u001b[1;33m test_images_ids.age.replace(['35','(8, 12)','13','22','34','45','(27, 32)','23','55','36','(38, 42)','57'],\n\u001b[0m\u001b[0;32m      2\u001b[0m                              ['(33,37)','(8,13)','(8,13)','(21,24)','(33,37)','(44,47)','(25, 32)','(21,24)','(54,59)',\n\u001b[0;32m      3\u001b[0m                              '(33,37)','(38, 43)','(54,59)'],\n\u001b[0;32m      4\u001b[0m                              inplace = True)\n\u001b[0;32m      5\u001b[0m \u001b[0mtest_images_ids\u001b[0m\u001b[1;33m.\u001b[0m\u001b[0mage\u001b[0m\u001b[1;33m.\u001b[0m\u001b[0mvalue_counts\u001b[0m\u001b[1;33m(\u001b[0m\u001b[1;33m)\u001b[0m\u001b[1;33m\u001b[0m\u001b[1;33m\u001b[0m\u001b[0m\n",
      "\u001b[1;31mNameError\u001b[0m: name 'test_images_ids' is not defined"
     ]
    }
   ],
   "source": [
    "test_images_ids.age.replace(['35','(8, 12)','13','22','34','45','(27, 32)','23','55','36','(38, 42)','57'],\n",
    "                             ['(33,37)','(8,13)','(8,13)','(21,24)','(33,37)','(44,47)','(25, 32)','(21,24)','(54,59)',\n",
    "                             '(33,37)','(38, 43)','(54,59)'],\n",
    "                             inplace = True)\n",
    "test_images_ids.age.value_counts()"
   ]
  },
  {
   "cell_type": "code",
   "execution_count": 9,
   "id": "4db35458",
   "metadata": {},
   "outputs": [
    {
     "ename": "NameError",
     "evalue": "name 'test_images_ids' is not defined",
     "output_type": "error",
     "traceback": [
      "\u001b[1;31m---------------------------------------------------------------------------\u001b[0m",
      "\u001b[1;31mNameError\u001b[0m                                 Traceback (most recent call last)",
      "\u001b[1;32m<ipython-input-9-96868b164e90>\u001b[0m in \u001b[0;36m<module>\u001b[1;34m\u001b[0m\n\u001b[1;32m----> 1\u001b[1;33m test_images_ids.drop(test_images_ids[test_images_ids.age.isin((test_images_ids.age.value_counts().loc[(test_images_ids.age.value_counts().values < 30)]).index)].index, \n\u001b[0m\u001b[0;32m      2\u001b[0m                      inplace = True)\n",
      "\u001b[1;31mNameError\u001b[0m: name 'test_images_ids' is not defined"
     ]
    }
   ],
   "source": [
    "test_images_ids.drop(test_images_ids[test_images_ids.age.isin((test_images_ids.age.value_counts().loc[(test_images_ids.age.value_counts().values < 30)]).index)].index, \n",
    "                     inplace = True)"
   ]
  },
  {
   "cell_type": "code",
   "execution_count": 49,
   "id": "bfbbcc6e",
   "metadata": {},
   "outputs": [
    {
     "data": {
      "text/plain": [
       "(25, 32)     2502\n",
       "(0, 2)       1226\n",
       "(8,13)       1149\n",
       "(38, 43)     1128\n",
       "(4, 6)       1076\n",
       "(15, 20)      828\n",
       "(60, 100)     433\n",
       "(48, 53)      405\n",
       "(33,37)       209\n",
       "(21,24)       137\n",
       "(44,47)        49\n",
       "(54,59)        39\n",
       "Name: age, dtype: int64"
      ]
     },
     "execution_count": 49,
     "metadata": {},
     "output_type": "execute_result"
    }
   ],
   "source": [
    "test_images_ids.age.value_counts()"
   ]
  },
  {
   "cell_type": "code",
   "execution_count": 50,
   "id": "1a427a01",
   "metadata": {},
   "outputs": [
    {
     "name": "stdout",
     "output_type": "stream",
     "text": [
      "Found 9262 validated image filenames belonging to 12 classes.\n",
      "Found 9181 validated image filenames belonging to 12 classes.\n"
     ]
    }
   ],
   "source": [
    "train_datagen = ImageDataGenerator(rescale=1./255)\n",
    "train_generator = train_datagen.flow_from_dataframe(\n",
    "                    train_images_ids,\n",
    "                    x_col='original_image',\n",
    "                    y_col='age',\n",
    "                    directory=train_faces,\n",
    "                    target_size=(150,150),\n",
    "                    batch_size=20,\n",
    "                    class_mode='categorical'\n",
    "                )\n",
    "\n",
    "test_datagen = ImageDataGenerator(rescale=1./255)\n",
    "test_generator = test_datagen.flow_from_dataframe(\n",
    "                    test_images_ids,\n",
    "                    x_col='original_image',\n",
    "                    y_col='age',\n",
    "                    directory=test_faces,\n",
    "                    target_size=(150,150),\n",
    "                    batch_size=20,\n",
    "                    class_mode='categorical')"
   ]
  },
  {
   "cell_type": "code",
   "execution_count": 2,
   "id": "0ec4d6f3",
   "metadata": {},
   "outputs": [
    {
     "ename": "NameError",
     "evalue": "name 'Sequential' is not defined",
     "output_type": "error",
     "traceback": [
      "\u001b[1;31m---------------------------------------------------------------------------\u001b[0m",
      "\u001b[1;31mNameError\u001b[0m                                 Traceback (most recent call last)",
      "\u001b[1;32m<ipython-input-2-0b025090e98f>\u001b[0m in \u001b[0;36m<module>\u001b[1;34m\u001b[0m\n\u001b[1;32m----> 1\u001b[1;33m \u001b[0mmodel_age\u001b[0m \u001b[1;33m=\u001b[0m \u001b[0mModel_age\u001b[0m\u001b[1;33m(\u001b[0m\u001b[1;33m)\u001b[0m\u001b[1;33m\u001b[0m\u001b[1;33m\u001b[0m\u001b[0m\n\u001b[0m\u001b[0;32m      2\u001b[0m history_age = model_age.fit(train_generator,\n\u001b[0;32m      3\u001b[0m                               \u001b[0msteps_per_epoch\u001b[0m\u001b[1;33m=\u001b[0m\u001b[1;36m100\u001b[0m\u001b[1;33m,\u001b[0m\u001b[1;33m\u001b[0m\u001b[1;33m\u001b[0m\u001b[0m\n\u001b[0;32m      4\u001b[0m                               \u001b[0mepochs\u001b[0m\u001b[1;33m=\u001b[0m\u001b[1;36m50\u001b[0m\u001b[1;33m,\u001b[0m\u001b[1;33m\u001b[0m\u001b[1;33m\u001b[0m\u001b[0m\n\u001b[0;32m      5\u001b[0m                               \u001b[0mvalidation_data\u001b[0m \u001b[1;33m=\u001b[0m \u001b[0mtest_generator\u001b[0m\u001b[1;33m,\u001b[0m\u001b[1;33m\u001b[0m\u001b[1;33m\u001b[0m\u001b[0m\n",
      "\u001b[1;32m<ipython-input-1-650146770ddf>\u001b[0m in \u001b[0;36mModel_age\u001b[1;34m()\u001b[0m\n\u001b[0;32m      1\u001b[0m \u001b[1;32mdef\u001b[0m \u001b[0mModel_age\u001b[0m\u001b[1;33m(\u001b[0m\u001b[1;33m)\u001b[0m\u001b[1;33m:\u001b[0m\u001b[1;33m\u001b[0m\u001b[1;33m\u001b[0m\u001b[0m\n\u001b[1;32m----> 2\u001b[1;33m     \u001b[0mmodel\u001b[0m \u001b[1;33m=\u001b[0m \u001b[0mSequential\u001b[0m\u001b[1;33m(\u001b[0m\u001b[1;33m)\u001b[0m\u001b[1;33m\u001b[0m\u001b[1;33m\u001b[0m\u001b[0m\n\u001b[0m\u001b[0;32m      3\u001b[0m     \u001b[0mmodel\u001b[0m\u001b[1;33m.\u001b[0m\u001b[0madd\u001b[0m\u001b[1;33m(\u001b[0m\u001b[0mConv2D\u001b[0m\u001b[1;33m(\u001b[0m\u001b[1;36m32\u001b[0m\u001b[1;33m,\u001b[0m \u001b[1;33m(\u001b[0m\u001b[1;36m3\u001b[0m\u001b[1;33m,\u001b[0m \u001b[1;36m3\u001b[0m\u001b[1;33m)\u001b[0m\u001b[1;33m,\u001b[0m \u001b[0minput_shape\u001b[0m \u001b[1;33m=\u001b[0m \u001b[1;33m(\u001b[0m\u001b[1;36m150\u001b[0m\u001b[1;33m,\u001b[0m \u001b[1;36m150\u001b[0m\u001b[1;33m,\u001b[0m \u001b[1;36m3\u001b[0m\u001b[1;33m)\u001b[0m\u001b[1;33m,\u001b[0m \u001b[0mactivation\u001b[0m \u001b[1;33m=\u001b[0m \u001b[1;34m'relu'\u001b[0m\u001b[1;33m)\u001b[0m\u001b[1;33m)\u001b[0m\u001b[1;33m\u001b[0m\u001b[1;33m\u001b[0m\u001b[0m\n\u001b[0;32m      4\u001b[0m     \u001b[0mmodel\u001b[0m\u001b[1;33m.\u001b[0m\u001b[0madd\u001b[0m\u001b[1;33m(\u001b[0m\u001b[0mMaxPooling2D\u001b[0m\u001b[1;33m(\u001b[0m\u001b[0mpool_size\u001b[0m \u001b[1;33m=\u001b[0m \u001b[1;33m(\u001b[0m\u001b[1;36m2\u001b[0m\u001b[1;33m,\u001b[0m \u001b[1;36m2\u001b[0m\u001b[1;33m)\u001b[0m\u001b[1;33m)\u001b[0m\u001b[1;33m)\u001b[0m\u001b[1;33m\u001b[0m\u001b[1;33m\u001b[0m\u001b[0m\n\u001b[0;32m      5\u001b[0m     \u001b[0mmodel\u001b[0m\u001b[1;33m.\u001b[0m\u001b[0madd\u001b[0m\u001b[1;33m(\u001b[0m\u001b[0mConv2D\u001b[0m\u001b[1;33m(\u001b[0m\u001b[1;36m64\u001b[0m\u001b[1;33m,\u001b[0m \u001b[1;33m(\u001b[0m\u001b[1;36m3\u001b[0m\u001b[1;33m,\u001b[0m \u001b[1;36m3\u001b[0m\u001b[1;33m)\u001b[0m\u001b[1;33m,\u001b[0m \u001b[0mactivation\u001b[0m \u001b[1;33m=\u001b[0m \u001b[1;34m'relu'\u001b[0m\u001b[1;33m)\u001b[0m\u001b[1;33m)\u001b[0m\u001b[1;33m\u001b[0m\u001b[1;33m\u001b[0m\u001b[0m\n",
      "\u001b[1;31mNameError\u001b[0m: name 'Sequential' is not defined"
     ]
    }
   ],
   "source": [
    "model_age = Model_age()\n",
    "history_age = model_age.fit(train_generator,\n",
    "                              steps_per_epoch=100,\n",
    "                              epochs=50,\n",
    "                              validation_data = test_generator,\n",
    "                              validation_steps=30)\n",
    "model_age.save('face_age_detection.h5')"
   ]
  },
  {
   "cell_type": "code",
   "execution_count": null,
   "id": "09767c65",
   "metadata": {},
   "outputs": [],
   "source": []
  }
 ],
 "metadata": {
  "kernelspec": {
   "display_name": "Python 3",
   "language": "python",
   "name": "python3"
  },
  "language_info": {
   "codemirror_mode": {
    "name": "ipython",
    "version": 3
   },
   "file_extension": ".py",
   "mimetype": "text/x-python",
   "name": "python",
   "nbconvert_exporter": "python",
   "pygments_lexer": "ipython3",
   "version": "3.8.8"
  }
 },
 "nbformat": 4,
 "nbformat_minor": 5
}

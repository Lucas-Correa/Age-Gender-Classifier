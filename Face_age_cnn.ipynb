{
 "cells": [
  {
   "cell_type": "code",
   "execution_count": 4,
   "id": "b34946df-1585-45f3-8039-50c338c32660",
   "metadata": {},
   "outputs": [],
   "source": [
    "import pandas as pd\n",
    "import numpy as np\n",
    "import datetime\n",
    "import requests\n",
    "from requests.auth import HTTPBasicAuth\n",
    "import tarfile\n",
    "import os\n",
    "import shutil\n",
    "import warnings\n",
    "from sklearn.metrics import classification_report, confusion_matrix\n",
    "import matplotlib.pyplot as plt\n",
    "import math\n",
    "\n",
    "#keras\n",
    "import tensorflow as tf\n",
    "from tensorflow import keras\n",
    "from tensorflow.keras.layers import Dense,Dropout,Conv2D, Flatten, MaxPooling2D\n",
    "from tensorflow.keras.models import Model,Sequential \n",
    "from tensorflow.keras import optimizers\n",
    "from tensorflow.keras.preprocessing.image import ImageDataGenerator"
   ]
  },
  {
   "cell_type": "code",
   "execution_count": 5,
   "id": "78097078-4ad8-4f4e-8a04-b535d639a8c9",
   "metadata": {},
   "outputs": [],
   "source": [
    "def get_organize_files(): \n",
    "    #download files with images\n",
    "    #https://talhassner.github.io/home/projects/Adience/Adience-data.html\n",
    "    BASE_URL = \"http://www.cslab.openu.ac.il/download/adiencedb/AdienceBenchmarkOfUnfilteredFacesForGenderAndAgeClassification\"\n",
    "    DOWNLOAD_FILES = {\n",
    "              \"http://www.cslab.openu.ac.il/download/adiencedb/AdienceBenchmarkOfUnfilteredFacesForGenderAndAgeClassification/aligned.tar.gz\": \"aligned.tar.gz\",\n",
    "              \"http://www.cslab.openu.ac.il/download/adiencedb/AdienceBenchmarkOfUnfilteredFacesForGenderAndAgeClassification/fold_0_data.txt\": \"fold_0_data.txt\",\n",
    "              \"http://www.cslab.openu.ac.il/download/adiencedb/AdienceBenchmarkOfUnfilteredFacesForGenderAndAgeClassification/fold_1_data.txt\": \"fold_1_data.txt\",\n",
    "              \"http://www.cslab.openu.ac.il/download/adiencedb/AdienceBenchmarkOfUnfilteredFacesForGenderAndAgeClassification/fold_2_data.txt\": \"fold_2_data.txt\",\n",
    "              \"http://www.cslab.openu.ac.il/download/adiencedb/AdienceBenchmarkOfUnfilteredFacesForGenderAndAgeClassification/fold_3_data.txt\": \"fold_3_data.txt\",\n",
    "              \"http://www.cslab.openu.ac.il/download/adiencedb/AdienceBenchmarkOfUnfilteredFacesForGenderAndAgeClassification/fold_4_data.txt\": \"fold_4_data.txt\"\n",
    "                    }\n",
    "\n",
    "    for DOWNLOAD_FILE, FILE_NAME in DOWNLOAD_FILES.items():\n",
    "        if not os.path.exists(FILE_NAME):\n",
    "            print('starting download')\n",
    "            with open(FILE_NAME, 'wb') as file:\n",
    "                r = requests.get(DOWNLOAD_FILE, auth = HTTPBasicAuth('adiencedb', 'adience'))\n",
    "                file.write(r.content)\n",
    "                print('downloaded {}'.format(FILE_NAME))\n",
    "    \n",
    "    \n",
    "    \n",
    "    if not os.path.exists('aligned'):\n",
    "        with tarfile.open('aligned.tar.gz') as file:\n",
    "            print('unziping images...')\n",
    "            file.extractall()\n",
    "            print('images unziped')\n",
    "        \n",
    "   \n",
    "    \n",
    "    #compile all files catalog\n",
    "    fold = pd.read_csv('fold_0_data.txt',sep='\\t')\n",
    "    fold.rename(columns={' user_id':'user_id'},inplace=True)\n",
    "    fold['fold'] = 0\n",
    "    for i in range(1,5):\n",
    "        temp = pd.read_csv('fold_'+str(i)+'_data.txt',sep='\\t')\n",
    "        temp['fold'] = i\n",
    "        fold = fold.append(temp,ignore_index=True)\n",
    "\n",
    "    fold.dropna(subset=['gender'],inplace=True)\n",
    "    fold = fold[['user_id','original_image','face_id','age','gender','fold']]\n",
    "    \n",
    "    fold = fold.loc[fold.age !='None']\n",
    "    fold.age.replace(['35'     ,'13'    ,'22'     ,'34'     ,'45'      ,'(27, 32)','23'      ,'55'      ,'36'     ,'(38, 42)','57'      ,'58'      ,'46'      ,'3'      ,'29'     ,'2'     ,'42'],\n",
    "                     ['(35,43)','(8,13)','(15,24)','(25,34)','(45,100)','(25,34)' ,'(15,24)','(45,100)','(35,43)','(35,43)' ,'(45,100)','(45,100)','(45,100)','(3, 6)','(25,34)','(0, 2)','(35,43)'],\n",
    "                     inplace = True)\n",
    "    fold.age.replace(['(38, 43)','(8, 12)','(15, 20)','(60, 100)','(38, 43)','(48, 53)','(4, 6)','(38, 48)','(25, 32)','(8, 23)'],\n",
    "                     ['(35,43)' ,'(8,13)' ,'(15,24)' ,'(45,100)' ,'(35,43)' ,'(45,100)','(3, 6)','(45,100)','(25,34)' ,'(8,13)'],\n",
    "                     inplace=True)\n",
    "     \n",
    "    train = fold.groupby('gender',as_index=False,group_keys=False).apply(lambda x: x.sample(frac=.5))\n",
    "    test = fold.drop(train.index.values)\n",
    "    \n",
    "    print('Train and test split done')\n",
    "    \n",
    "    #creates directories for training, test and validation files\n",
    "    cwd = os.getcwd()\n",
    "    \n",
    "    train_faces = os.path.join(cwd,'train')\n",
    "    if not os.path.exists(train_faces):\n",
    "        os.mkdir(train_faces)\n",
    "\n",
    "    test_faces = os.path.join(cwd,'test')\n",
    "    if not os.path.exists(test_faces):\n",
    "        os.mkdir(test_faces)\n",
    "\n",
    "    #copy images to each directory\n",
    "    for index, row in train.iterrows():\n",
    "        src = os.path.join(cwd,'aligned',row['user_id'],'landmark_aligned_face.'+str(row['face_id'])+'.'+row['original_image'])\n",
    "        dst = os.path.join(train_faces,row['original_image'])\n",
    "        shutil.copyfile(src,dst)\n",
    "\n",
    "    print('train images copied')\n",
    "\n",
    "    for index, row in test.iterrows():\n",
    "        src = os.path.join(cwd,'aligned',row['user_id'],'landmark_aligned_face.'+str(row['face_id'])+'.'+row['original_image'])\n",
    "        dst = os.path.join(test_faces,row['original_image'])\n",
    "        shutil.copyfile(src,dst)\n",
    "\n",
    "    print('test images copied')\n",
    "    \n",
    "    return cwd,train_faces,test_faces,train,test\n"
   ]
  },
  {
   "cell_type": "code",
   "execution_count": 6,
   "id": "72bc90e2-8652-4f09-a83c-22f1258b03fc",
   "metadata": {},
   "outputs": [
    {
     "name": "stdout",
     "output_type": "stream",
     "text": [
      "Train and test split done\n",
      "train images copied\n",
      "test images copied\n"
     ]
    }
   ],
   "source": [
    "cwd,train_faces,test_faces,train_images_ids, test_images_ids = get_organize_files()"
   ]
  },
  {
   "cell_type": "code",
   "execution_count": 7,
   "id": "45855d1f-79e2-4af0-a968-e63a2f33d2c6",
   "metadata": {},
   "outputs": [],
   "source": [
    "def viz_overfit(model,history,num_of_test_samples,batch_size,target_names,epc):\n",
    "    \n",
    "    Y_pred = model.predict(test_generator, math.ceil(num_of_test_samples / batch_size))\n",
    "    \n",
    "    print(classification_report(test_generator.classes[:Y_pred.shape[0]],\n",
    "                                list(np.argmax(Y_pred,axis=1)), \n",
    "                                target_names=target_names))\n",
    "\n",
    "\n",
    "    acc_train = history.history['acc']\n",
    "    acc_val = history.history['val_acc']\n",
    "    epochs = range(1,epc+1)\n",
    "    plt.plot(epochs, acc_train, 'g', label='Training accuracy')\n",
    "    plt.plot(epochs, acc_val, 'b', label='Validation accuracy')\n",
    "    plt.title('Training and Validation accuracy')\n",
    "    plt.xlabel('Epochs')\n",
    "    plt.ylabel('Accuracy')\n",
    "    plt.legend()\n",
    "    plt.show()\n",
    "\n",
    "    loss_train = history.history['loss']\n",
    "    loss_val = history.history['val_loss']\n",
    "    epochs = range(1,epc+1)\n",
    "    plt.plot(epochs, loss_train, 'g', label='Training loss')\n",
    "    plt.plot(epochs, loss_val, 'b', label='Validation loss')\n",
    "    plt.title('Training and Validation loss')\n",
    "    plt.xlabel('Epochs')\n",
    "    plt.ylabel('Loss')\n",
    "    plt.legend()\n",
    "    plt.show()\n",
    "    "
   ]
  },
  {
   "cell_type": "code",
   "execution_count": 8,
   "id": "db5e7cd2-dc4e-44da-a678-48f19c37a4a8",
   "metadata": {},
   "outputs": [
    {
     "name": "stdout",
     "output_type": "stream",
     "text": [
      "Metal device set to: Apple M1\n",
      "Model: \"sequential\"\n",
      "_________________________________________________________________\n",
      " Layer (type)                Output Shape              Param #   \n",
      "=================================================================\n",
      " conv2d (Conv2D)             (None, 150, 150, 32)      128       \n",
      "                                                                 \n",
      " max_pooling2d (MaxPooling2D  (None, 75, 75, 32)       0         \n",
      " )                                                               \n",
      "                                                                 \n",
      " conv2d_1 (Conv2D)           (None, 74, 74, 64)        8256      \n",
      "                                                                 \n",
      " max_pooling2d_1 (MaxPooling  (None, 37, 37, 64)       0         \n",
      " 2D)                                                             \n",
      "                                                                 \n",
      " conv2d_2 (Conv2D)           (None, 36, 36, 128)       32896     \n",
      "                                                                 \n",
      " max_pooling2d_2 (MaxPooling  (None, 18, 18, 128)      0         \n",
      " 2D)                                                             \n",
      "                                                                 \n",
      " conv2d_3 (Conv2D)           (None, 17, 17, 256)       131328    \n",
      "                                                                 \n",
      " max_pooling2d_3 (MaxPooling  (None, 8, 8, 256)        0         \n",
      " 2D)                                                             \n",
      "                                                                 \n",
      " conv2d_4 (Conv2D)           (None, 6, 6, 512)         1180160   \n",
      "                                                                 \n",
      " max_pooling2d_4 (MaxPooling  (None, 3, 3, 512)        0         \n",
      " 2D)                                                             \n",
      "                                                                 \n",
      " flatten (Flatten)           (None, 4608)              0         \n",
      "                                                                 \n",
      " dropout (Dropout)           (None, 4608)              0         \n",
      "                                                                 \n",
      " dense (Dense)               (None, 128)               589952    \n",
      "                                                                 \n",
      " dropout_1 (Dropout)         (None, 128)               0         \n",
      "                                                                 \n",
      " dense_1 (Dense)             (None, 128)               16512     \n",
      "                                                                 \n",
      " dense_2 (Dense)             (None, 64)                8256      \n",
      "                                                                 \n",
      " dense_3 (Dense)             (None, 32)                2080      \n",
      "                                                                 \n",
      " dense_4 (Dense)             (None, 7)                 231       \n",
      "                                                                 \n",
      "=================================================================\n",
      "Total params: 1,969,799\n",
      "Trainable params: 1,969,799\n",
      "Non-trainable params: 0\n",
      "_________________________________________________________________\n"
     ]
    },
    {
     "name": "stderr",
     "output_type": "stream",
     "text": [
      "2022-04-18 23:35:17.713988: I tensorflow/core/common_runtime/pluggable_device/pluggable_device_factory.cc:305] Could not identify NUMA node of platform GPU ID 0, defaulting to 0. Your kernel may not have been built with NUMA support.\n",
      "2022-04-18 23:35:17.714075: I tensorflow/core/common_runtime/pluggable_device/pluggable_device_factory.cc:271] Created TensorFlow device (/job:localhost/replica:0/task:0/device:GPU:0 with 0 MB memory) -> physical PluggableDevice (device: 0, name: METAL, pci bus id: <undefined>)\n"
     ]
    }
   ],
   "source": [
    "def Model_age():\n",
    "    model = Sequential()\n",
    "    model.add(Conv2D(32, (1, 1), input_shape = (150, 150, 3), activation = 'relu'))\n",
    "    model.add(MaxPooling2D(pool_size = (2, 2)))\n",
    "    \n",
    "    model.add(Conv2D(64, (2, 2), activation = 'relu'))\n",
    "    model.add(MaxPooling2D(pool_size = (2, 2)))\n",
    "    \n",
    "    model.add(Conv2D(128, (2, 2), activation = 'relu'))\n",
    "    model.add(MaxPooling2D(pool_size = (2, 2)))\n",
    "    \n",
    "    model.add(Conv2D(256, (2, 2), activation = 'relu'))\n",
    "    model.add(MaxPooling2D(pool_size = (2, 2)))\n",
    "    \n",
    "    model.add(Conv2D(512, (3, 3), activation = 'relu'))\n",
    "    model.add(MaxPooling2D(pool_size = (2, 2)))\n",
    "    \n",
    "    \n",
    "    model.add(Flatten())\n",
    "    \n",
    "    model.add(Dropout(0.5))\n",
    "    model.add(Dense(units = 128, activation = 'relu'))\n",
    "    \n",
    "    model.add(Dropout(0.5))\n",
    "    model.add(Dense(units = 128, activation = 'relu'))\n",
    "    \n",
    "    model.add(Dense(units = 64, activation = 'relu'))\n",
    "        \n",
    "    model.add(Dense(units = 32, activation = 'relu'))\n",
    "    \n",
    "    model.add(Dense(units = 7, activation = 'softmax'))\n",
    "    model.summary()\n",
    "    model.compile(loss='categorical_crossentropy', optimizer = optimizers.RMSprop(learning_rate=0.001), metrics=['acc'])\n",
    "    \n",
    "    return model\n",
    "\n",
    "model_age = Model_age()"
   ]
  },
  {
   "cell_type": "code",
   "execution_count": 9,
   "id": "9206135f-1ff9-4e2c-9599-8dfb49032006",
   "metadata": {},
   "outputs": [
    {
     "name": "stdout",
     "output_type": "stream",
     "text": [
      "Found 9276 validated image filenames belonging to 7 classes.\n",
      "Found 9275 validated image filenames belonging to 7 classes.\n"
     ]
    }
   ],
   "source": [
    "train_datagen = ImageDataGenerator(rescale=1./255,\n",
    "                                  rotation_range=45,\n",
    "                                  width_shift_range=0.2,\n",
    "                                  height_shift_range=0.2,\n",
    "                                  shear_range=0.1,\n",
    "                                  zoom_range=0.1,\n",
    "                                  fill_mode='nearest')\n",
    "\n",
    "train_generator = train_datagen.flow_from_dataframe(\n",
    "                    train_images_ids,\n",
    "                    x_col='original_image',\n",
    "                    y_col='age',\n",
    "                    directory=train_faces,\n",
    "                    target_size=(150,150),\n",
    "                    batch_size=100,\n",
    "                    class_mode='categorical'\n",
    "                )\n",
    "\n",
    "test_datagen = ImageDataGenerator(rescale=1./255)\n",
    "test_generator = test_datagen.flow_from_dataframe(\n",
    "                    test_images_ids,\n",
    "                    x_col='original_image',\n",
    "                    y_col='age',\n",
    "                    directory=test_faces,\n",
    "                    target_size=(150,150),\n",
    "                    batch_size=100,\n",
    "                    class_mode='categorical',\n",
    "                    shuffle=False\n",
    "                )"
   ]
  },
  {
   "cell_type": "code",
   "execution_count": 10,
   "id": "3c45c812-1ada-4a3e-a2ac-fdb9e29a0f77",
   "metadata": {},
   "outputs": [
    {
     "name": "stdout",
     "output_type": "stream",
     "text": [
      "Epoch 1/2\n"
     ]
    },
    {
     "name": "stderr",
     "output_type": "stream",
     "text": [
      "2022-04-18 23:35:18.798292: W tensorflow/core/platform/profile_utils/cpu_utils.cc:128] Failed to get CPU frequency: 0 Hz\n",
      "2022-04-18 23:35:19.087855: I tensorflow/core/grappler/optimizers/custom_graph_optimizer_registry.cc:113] Plugin optimizer for device_type GPU is enabled.\n"
     ]
    },
    {
     "name": "stdout",
     "output_type": "stream",
     "text": [
      "93/93 [==============================] - ETA: 0s - loss: 1.8929 - acc: 0.2768"
     ]
    },
    {
     "name": "stderr",
     "output_type": "stream",
     "text": [
      "2022-04-18 23:37:49.931601: I tensorflow/core/grappler/optimizers/custom_graph_optimizer_registry.cc:113] Plugin optimizer for device_type GPU is enabled.\n"
     ]
    },
    {
     "name": "stdout",
     "output_type": "stream",
     "text": [
      "93/93 [==============================] - 257s 3s/step - loss: 1.8929 - acc: 0.2768 - val_loss: 1.8758 - val_acc: 0.2767 - lr: 0.0010\n",
      "Epoch 2/2\n",
      "93/93 [==============================] - 118s 1s/step - loss: 1.8727 - acc: 0.2782 - val_loss: 1.8529 - val_acc: 0.2767 - lr: 0.0010\n"
     ]
    }
   ],
   "source": [
    "tf.device('/cpu:0')\n",
    "\n",
    "checkpoints = 'Model/{epoch:02d}-{val_acc:.2f}.hdf5'\n",
    "\n",
    "callback_list = [\n",
    "    keras.callbacks.EarlyStopping(monitor='acc',patience=7),\n",
    "    keras.callbacks.ModelCheckpoint(filepath=checkpoints, monitor='acc'),\n",
    "    keras.callbacks.ReduceLROnPlateau(monitor='val_loss', factor=0.2, patience=3,cooldown=2)\n",
    "]\n",
    "\n",
    "\n",
    "\n",
    "history_age = model_age.fit(train_generator,\n",
    "                              steps_per_epoch=93,\n",
    "                              epochs=2,\n",
    "                              callbacks=callback_list,\n",
    "                              validation_data = test_generator,\n",
    "                              validation_steps=93)\n",
    "#model_age.save('face_age_detection_augmentation.h5')"
   ]
  },
  {
   "cell_type": "code",
   "execution_count": 11,
   "id": "1828cf3f-2b33-4ea4-b6be-f236ab026936",
   "metadata": {},
   "outputs": [
    {
     "name": "stderr",
     "output_type": "stream",
     "text": [
      "2022-04-18 23:41:34.144843: I tensorflow/core/grappler/optimizers/custom_graph_optimizer_registry.cc:113] Plugin optimizer for device_type GPU is enabled.\n"
     ]
    },
    {
     "name": "stdout",
     "output_type": "stream",
     "text": [
      "              precision    recall  f1-score   support\n",
      "\n",
      "      (0, 2)       0.00      0.00      0.00      1246\n",
      "     (15,24)       0.00      0.00      0.00       954\n",
      "     (25,34)       0.28      1.00      0.43      2566\n",
      "      (3, 6)       0.00      0.00      0.00      1103\n",
      "     (35,43)       0.00      0.00      0.00      1330\n",
      "    (45,100)       0.00      0.00      0.00       965\n",
      "      (8,13)       0.00      0.00      0.00      1111\n",
      "\n",
      "    accuracy                           0.28      9275\n",
      "   macro avg       0.04      0.14      0.06      9275\n",
      "weighted avg       0.08      0.28      0.12      9275\n",
      "\n"
     ]
    },
    {
     "name": "stderr",
     "output_type": "stream",
     "text": [
      "/opt/homebrew/Caskroom/miniforge/base/envs/tensorflow/lib/python3.9/site-packages/sklearn/metrics/_classification.py:1318: UndefinedMetricWarning: Precision and F-score are ill-defined and being set to 0.0 in labels with no predicted samples. Use `zero_division` parameter to control this behavior.\n",
      "  _warn_prf(average, modifier, msg_start, len(result))\n",
      "/opt/homebrew/Caskroom/miniforge/base/envs/tensorflow/lib/python3.9/site-packages/sklearn/metrics/_classification.py:1318: UndefinedMetricWarning: Precision and F-score are ill-defined and being set to 0.0 in labels with no predicted samples. Use `zero_division` parameter to control this behavior.\n",
      "  _warn_prf(average, modifier, msg_start, len(result))\n",
      "/opt/homebrew/Caskroom/miniforge/base/envs/tensorflow/lib/python3.9/site-packages/sklearn/metrics/_classification.py:1318: UndefinedMetricWarning: Precision and F-score are ill-defined and being set to 0.0 in labels with no predicted samples. Use `zero_division` parameter to control this behavior.\n",
      "  _warn_prf(average, modifier, msg_start, len(result))\n"
     ]
    },
    {
     "data": {
      "image/png": "[encoded data removed]",
      "text/plain": [
       "<Figure size 432x288 with 1 Axes>"
      ]
     },
     "metadata": {
      "needs_background": "light"
     },
     "output_type": "display_data"
    },
    {
     "data": {
      "image/png": "[encoded data removed]",
      "text/plain": [
       "<Figure size 432x288 with 1 Axes>"
      ]
     },
     "metadata": {
      "needs_background": "light"
     },
     "output_type": "display_data"
    }
   ],
   "source": [
    "viz_overfit(model_age,\n",
    "            history_age, \n",
    "            train_generator.n,\n",
    "            train_generator.batch_size,\n",
    "            list(train_generator.class_indices.keys()),\n",
    "            len(history_age.epoch))"
   ]
  },
  {
   "cell_type": "code",
   "execution_count": 24,
   "id": "cf740986",
   "metadata": {},
   "outputs": [
    {
     "data": {
      "text/plain": [
       "'2022_04_19_00h_05m'"
      ]
     },
     "execution_count": 24,
     "metadata": {},
     "output_type": "execute_result"
    }
   ],
   "source": [
    "plt.savefig()"
   ]
  }
 ],
 "metadata": {
  "kernelspec": {
   "display_name": "Python 3 (ipykernel)",
   "language": "python",
   "name": "python3"
  },
  "language_info": {
   "codemirror_mode": {
    "name": "ipython",
    "version": 3
   },
   "file_extension": ".py",
   "mimetype": "text/x-python",
   "name": "python",
   "nbconvert_exporter": "python",
   "pygments_lexer": "ipython3",
   "version": "3.9.12"
  }
 },
 "nbformat": 4,
 "nbformat_minor": 5
}
